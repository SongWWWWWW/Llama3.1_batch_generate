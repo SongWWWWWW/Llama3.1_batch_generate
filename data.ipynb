{
 "cells": [
  {
   "cell_type": "code",
   "execution_count": 1,
   "metadata": {},
   "outputs": [
    {
     "name": "stdout",
     "output_type": "stream",
     "text": [
      "Looking in indexes: http://mirrors.aliyun.com/pypi/simple\n",
      "Requirement already satisfied: pyarrow in /root/miniconda3/envs/wcc_dp/lib/python3.12/site-packages (18.0.0)\n",
      "Requirement already satisfied: pandas in /root/miniconda3/envs/wcc_dp/lib/python3.12/site-packages (2.2.3)\n",
      "Requirement already satisfied: numpy>=1.26.0 in /root/miniconda3/envs/wcc_dp/lib/python3.12/site-packages (from pandas) (1.26.4)\n",
      "Requirement already satisfied: python-dateutil>=2.8.2 in /root/miniconda3/envs/wcc_dp/lib/python3.12/site-packages (from pandas) (2.9.0)\n",
      "Requirement already satisfied: pytz>=2020.1 in /root/miniconda3/envs/wcc_dp/lib/python3.12/site-packages (from pandas) (2024.2)\n",
      "Requirement already satisfied: tzdata>=2022.7 in /root/miniconda3/envs/wcc_dp/lib/python3.12/site-packages (from pandas) (2024.2)\n",
      "Requirement already satisfied: six>=1.5 in /root/miniconda3/envs/wcc_dp/lib/python3.12/site-packages (from python-dateutil>=2.8.2->pandas) (1.16.0)\n",
      "\u001b[33mWARNING: Running pip as the 'root' user can result in broken permissions and conflicting behaviour with the system package manager, possibly rendering your system unusable.It is recommended to use a virtual environment instead: https://pip.pypa.io/warnings/venv. Use the --root-user-action option if you know what you are doing and want to suppress this warning.\u001b[0m\u001b[33m\n",
      "\u001b[0m0             hide new secretions from the parental units \n",
      "1                     contains no wit , only labored gags \n",
      "2        that loves its characters and communicates som...\n",
      "3        remains utterly satisfied to remain the same t...\n",
      "4        on the worst revenge-of-the-nerds clichés the ...\n",
      "                               ...                        \n",
      "67344                                 a delightful comedy \n",
      "67345                     anguish , anger and frustration \n",
      "67346    at achieving the modest , crowd-pleasing goals...\n",
      "67347                                    a patient viewer \n",
      "67348    this new jangle of noise , mayhem and stupidit...\n",
      "Name: sentence, Length: 67349, dtype: object\n",
      "<class 'pandas.core.series.Series'>\n"
     ]
    },
    {
     "data": {
      "text/plain": [
       "'hide new secretions from the parental units '"
      ]
     },
     "execution_count": 1,
     "metadata": {},
     "output_type": "execute_result"
    }
   ],
   "source": [
    "! pip install pyarrow pandas\n",
    "\n",
    "data_path = \"./sst-2/\"\n",
    "data_list = [\n",
    "    \"test-00000-of-00001.parquet\",\n",
    "    \"train-00000-of-00001.parquet\",\n",
    "    \"validation-00000-of-00001.parquet\"\n",
    "]\n",
    "import pyarrow.parquet as pq\n",
    "import os\n",
    "# 读取 Parquet 文件\n",
    "table = pq.read_table(os.path.join(data_path,data_list[1]))\n",
    "\n",
    "# 转换为 Pandas DataFrame\n",
    "df = table.to_pandas()\n",
    "df\n",
    "len(df)\n",
    "\n",
    "\n",
    "sentence = df[\"sentence\"]\n",
    "print(sentence)\n",
    "print(type(sentence))\n",
    "sentence[0]\n"
   ]
  },
  {
   "cell_type": "code",
   "execution_count": 2,
   "metadata": {},
   "outputs": [
    {
     "name": "stdout",
     "output_type": "stream",
     "text": [
      "   idx                                           sentence  label\n",
      "0    0       hide new secretions from the parental units       0\n",
      "1    1               contains no wit , only labored gags       0\n",
      "2    2  that loves its characters and communicates som...      1\n",
      "3    3  remains utterly satisfied to remain the same t...      0\n",
      "4    4  on the worst revenge-of-the-nerds clichés the ...      0\n",
      "                idx         label\n",
      "count  67349.000000  67349.000000\n",
      "mean   33674.000000      0.557826\n",
      "std    19442.125977      0.496649\n",
      "min        0.000000      0.000000\n",
      "25%    16837.000000      0.000000\n",
      "50%    33674.000000      1.000000\n",
      "75%    50511.000000      1.000000\n",
      "max    67348.000000      1.000000\n",
      "Index(['idx', 'sentence', 'label'], dtype='object')\n"
     ]
    }
   ],
   "source": [
    "# 选n个样本做demonstration （from train set）\n",
    "# 用全部validation set做query\n",
    "# 得到一个acc\n",
    "# 这就给这n个sample一个score了\n",
    "# 然后每一个sample出现m次\n",
    "# 最后的score就是m次的均值\n",
    "\n",
    "\n",
    "# 查看数据集的前几行\n",
    "print(df.head())\n",
    "\n",
    "# 查看数据集的描述性统计信息\n",
    "print(df.describe())\n",
    "\n",
    "# 查看数据集的列名\n",
    "print(df.columns)"
   ]
  },
  {
   "cell_type": "code",
   "execution_count": null,
   "metadata": {},
   "outputs": [],
   "source": [
    "sentence = df[\"sentence\"]\n",
    "print(sentence)\n",
    "print(type(sentence))\n",
    "sentence[0]"
   ]
  },
  {
   "cell_type": "code",
   "execution_count": 48,
   "metadata": {},
   "outputs": [],
   "source": [
    "# define  m = 5  (frequence)   n = 5  (demonstrations)\n",
    "# 选择可以用两个list，第一个是0-len(trainset) 第二个是全设为5，每次选择5个，选完之后，删除，然后是一次中，每个实例只能选一次, random_seed保证实验可重复性\n",
    "import random\n",
    "random.seed(32)\n",
    "def sample(m,n,train_set):\n",
    "    # 裁减 m*len(train_set)//n\n",
    "    if m*len(train_set)%n != 0 :\n",
    "        train_set = train_set[:len(train_set)-(m*len(train_set))%n]\n",
    "    length = len(train_set)\n",
    "    num_list = [m]*length # 计数\n",
    "    count_list = [i for i in range(length)] # 采样用\n",
    "    epoch = m*len(train_set)//n\n",
    "\n",
    "    result = []\n",
    "    \n",
    "    for _ in range(epoch):\n",
    "        ls = []\n",
    "        for _ in range(n):\n",
    "\n",
    "            random_num = random.randint(0,len(count_list)-1) # 随机采样，采样下标\n",
    "\n",
    "            # print(random_num,len(count_list))\n",
    "\n",
    "            while count_list[random_num] in ls:  # 取消重复\n",
    "                random_num = random.randint(0,len(count_list)-1)\n",
    "                # print(random_num,len(count_list))\n",
    "            ls.append(count_list[random_num]) # 添加内容\n",
    "            num_list[random_num] -= 1\n",
    "            # print(num_list)\n",
    "            if num_list[random_num] <= 0 : # 次数够就删掉\n",
    "                num_list.pop(random_num)\n",
    "                count_list.pop(random_num)\n",
    "        result.append(ls)\n",
    "        # print(ls)\n",
    "    return result\n",
    "trainset = [0 for i in range(1000) ]\n",
    "nested_list = sample(3,3,trainset)\n",
    "# nested_list\n"
   ]
  },
  {
   "cell_type": "code",
   "execution_count": null,
   "metadata": {},
   "outputs": [],
   "source": [
    "def validate_and_count(nested_list):\n",
    "    # 扁平化列表\n",
    "    flat_list = [item for sublist in nested_list for item in sublist]\n",
    "    \n",
    "    # 去重并排序\n",
    "    unique_sorted_list = sorted(set(flat_list))\n",
    "    \n",
    "    # 计算每个元素出现的次数\n",
    "    count_list = [flat_list.count(num) for num in unique_sorted_list]\n",
    "    \n",
    "    return unique_sorted_list, count_list\n",
    "\n",
    "# 示例输入\n",
    "\n",
    "unique_sorted, counts = validate_and_count(nested_list)\n",
    "\n",
    "# 输出结果\n",
    "print(\"Unique Sorted List:\", unique_sorted)\n",
    "print(\"Counts List:\", counts)"
   ]
  },
  {
   "cell_type": "code",
   "execution_count": null,
   "metadata": {},
   "outputs": [],
   "source": [
    "num_list = [5]*5\n",
    "num_list\n",
    "count_list = [i for i in range(5)]\n",
    "count_list\n",
    "import random\n",
    "random.randint(0,10)"
   ]
  },
  {
   "cell_type": "code",
   "execution_count": null,
   "metadata": {},
   "outputs": [],
   "source": [
    "import random\n",
    "\n",
    "def sample(m, n, train_set):\n",
    "    # 裁减 m*len(train_set)//n\n",
    "    if m * len(train_set) % n != 0:\n",
    "        train_set = train_set[:len(train_set) - (m * len(train_set)) % n]\n",
    "    length = len(train_set)\n",
    "    num_list = [m] * length  # 计数\n",
    "    count_list = list(range(length))  # 采样用\n",
    "    epoch = m * len(train_set) // n\n",
    "    result = []\n",
    "    \n",
    "    for _ in range(epoch):\n",
    "        ls = []\n",
    "        for _ in range(n):\n",
    "            if not count_list:\n",
    "                break  # 如果没有可采样的元素，提前退出\n",
    "\n",
    "            random_num = random.randint(0, len(count_list) - 1)  # 修正随机数范围\n",
    "            while count_list[random_num] in ls:  # 取消重复\n",
    "                random_num = random.randint(0, len(count_list) - 1)\n",
    "\n",
    "            ls.append(count_list[random_num])  # 添加内容\n",
    "            num_list[count_list[random_num]] -= 1\n",
    "            \n",
    "            if num_list[count_list[random_num]] <= 0:  # 次数够就删掉\n",
    "                num_list[random_num] = num_list[-1]  # 将次数设为0以避免误删\n",
    "                num_list.pop()\n",
    "                count_list[random_num] = count_list[-1]  # 将最后一个元素移动到当前索引\n",
    "                count_list.pop()  # 删除最后一个元素\n",
    "        result.append(ls)\n",
    "    \n",
    "    return result\n",
    "trainset = [0 for i in range(6) ]\n",
    "sample(3,3,trainset)\n"
   ]
  }
 ],
 "metadata": {
  "kernelspec": {
   "display_name": "wcc_dp",
   "language": "python",
   "name": "python3"
  },
  "language_info": {
   "codemirror_mode": {
    "name": "ipython",
    "version": 3
   },
   "file_extension": ".py",
   "mimetype": "text/x-python",
   "name": "python",
   "nbconvert_exporter": "python",
   "pygments_lexer": "ipython3",
   "version": "3.12.7"
  }
 },
 "nbformat": 4,
 "nbformat_minor": 2
}
